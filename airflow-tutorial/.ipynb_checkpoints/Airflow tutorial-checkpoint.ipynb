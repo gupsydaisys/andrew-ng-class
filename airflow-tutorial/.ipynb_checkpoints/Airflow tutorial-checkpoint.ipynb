{
 "cells": [
  {
   "cell_type": "code",
   "execution_count": 39,
   "metadata": {},
   "outputs": [],
   "source": [
    "# The DAG object; we'll need this to instantiate a DAG\n",
    "from airflow import DAG\n",
    "\n",
    "# Operators; we need this to operate!\n",
    "from airflow.operators.bash_operator import BashOperator"
   ]
  },
  {
   "cell_type": "code",
   "execution_count": 40,
   "metadata": {},
   "outputs": [],
   "source": [
    "# https://github.com/apache/incubator-airflow/blob/master/airflow/models.py#L2168\n",
    "# Defines params you can pass in\n",
    "from datetime import datetime, timedelta\n",
    "\n",
    "default_args = {\n",
    "    'owner': 'airflow',\n",
    "    'depends_on_past': False,\n",
    "    'start_date': datetime(2015, 6, 1),\n",
    "    'email': ['airflow@example.com'],\n",
    "    'email_on_failure': False,\n",
    "    'email_on_retry': False,\n",
    "    'retries': 1,\n",
    "    'retry_delay': timedelta(minutes=5),\n",
    "    # 'queue': 'bash_queue',\n",
    "    # 'pool': 'backfill',\n",
    "    # 'priority_weight': 10,\n",
    "    # 'end_date': datetime(2016, 1, 1),\n",
    "}\n"
   ]
  },
  {
   "cell_type": "code",
   "execution_count": 41,
   "metadata": {},
   "outputs": [],
   "source": [
    "# tutorial = dag_id\n",
    "# timedelta(1) = 1 day\n",
    "\n",
    "# dag to nest nodes into\n",
    "dag = DAG(\n",
    "    'tutorial', default_args=default_args, schedule_interval=timedelta(1))"
   ]
  },
  {
   "cell_type": "code",
   "execution_count": 42,
   "metadata": {},
   "outputs": [],
   "source": [
    "# Tasks are generated when instantiating operator objects.\n",
    "# task_id is unique identifier\n",
    "\n",
    "t1 = BashOperator(\n",
    "    task_id='print_date',\n",
    "    bash_command='date',\n",
    "    dag=dag)\n",
    "\n",
    "t2 = BashOperator(\n",
    "    task_id='sleep',\n",
    "    bash_command='sleep 5',\n",
    "    retries=3,\n",
    "    dag=dag)"
   ]
  },
  {
   "cell_type": "markdown",
   "metadata": {},
   "source": [
    "But how do you know which arguments will be passed in, here is PRECENDENCE RULES\n",
    "\n",
    "(1 - most important) Explicitly passed arguments\n",
    "(2) Values that exist in the default_args dictionary\n",
    "(3 - default) The operator’s default value, if one exists"
   ]
  },
  {
   "cell_type": "code",
   "execution_count": 43,
   "metadata": {},
   "outputs": [],
   "source": [
    "# noteeeee: A task must include or inherit the arguments task_id and owner, \n",
    "# otherwise Airflow will raise an exception."
   ]
  },
  {
   "cell_type": "code",
   "execution_count": 44,
   "metadata": {},
   "outputs": [],
   "source": [
    "# Jinja templating http://jinja.pocoo.org/docs/dev/\n",
    "# {{ ds }} (today’s “date stamp”\n",
    "\n",
    "templated_command = \"\"\"\n",
    "    {% for i in range(5) %}\n",
    "        echo \"{{ ds }}\"\n",
    "        echo \"{{ macros.ds_add(ds, 7) }}\"\n",
    "        echo \"{{ params.my_param }}\"\n",
    "    {% endfor %}\n",
    "\"\"\"\n",
    "\n",
    "t3 = BashOperator(\n",
    "    task_id='templated',\n",
    "    bash_command=templated_command,\n",
    "    params={'my_param': 'Parameter I passed in'},\n",
    "    dag=dag)"
   ]
  },
  {
   "cell_type": "code",
   "execution_count": 45,
   "metadata": {},
   "outputs": [],
   "source": [
    "# Setting up Dependencies\n",
    "\n",
    "t2.set_upstream(t1)\n",
    "\n",
    "# This means that t2 will depend on t1\n",
    "# running successfully to run\n",
    "# It is equivalent to\n",
    "# t1.set_downstream(t2)\n",
    "\n",
    "t3.set_upstream(t1)\n",
    "\n",
    "# all of this is equivalent to\n",
    "# dag.set_dependency('print_date', 'sleep')\n",
    "# dag.set_dependency('print_date', 'templated')\n",
    "\n",
    "#### t3 -> t1 <- t2 (intuitively the opposite, t1 must first run and then t2 and t3)"
   ]
  },
  {
   "cell_type": "code",
   "execution_count": 46,
   "metadata": {},
   "outputs": [
    {
     "name": "stdout",
     "output_type": "stream",
     "text": [
      "[2018-07-23 18:45:00,070] {__init__.py:45} INFO - Using executor SequentialExecutor\n",
      "[2018-07-23 18:45:00,112] {models.py:189} INFO - Filling up the DagBag from /Users/sgupta/airflow/dags\n",
      "\n",
      "\n",
      "-------------------------------------------------------------------\n",
      "DAGS\n",
      "-------------------------------------------------------------------\n",
      "example_bash_operator\n",
      "example_branch_dop_operator_v3\n",
      "example_branch_operator\n",
      "example_http_operator\n",
      "example_passing_params_via_test_command\n",
      "example_python_operator\n",
      "example_short_circuit_operator\n",
      "example_skip_dag\n",
      "example_subdag_operator\n",
      "example_subdag_operator.section-1\n",
      "example_subdag_operator.section-2\n",
      "example_trigger_controller_dag\n",
      "example_trigger_target_dag\n",
      "example_xcom\n",
      "latest_only\n",
      "latest_only_with_trigger\n",
      "test_utils\n",
      "tutorial\n",
      "\n",
      "[2018-07-23 18:45:00,634] {__init__.py:45} INFO - Using executor SequentialExecutor\n",
      "[2018-07-23 18:45:00,669] {models.py:189} INFO - Filling up the DagBag from /Users/sgupta/airflow/dags\n",
      "print_date\n",
      "sleep\n",
      "templated\n",
      "[2018-07-23 18:45:01,192] {__init__.py:45} INFO - Using executor SequentialExecutor\n",
      "[2018-07-23 18:45:01,229] {models.py:189} INFO - Filling up the DagBag from /Users/sgupta/airflow/dags\n",
      "<Task(BashOperator): sleep>\n",
      "    <Task(BashOperator): print_date>\n",
      "<Task(BashOperator): templated>\n",
      "    <Task(BashOperator): print_date>\n"
     ]
    }
   ],
   "source": [
    "%%bash\n",
    "# print the list of active DAGs\n",
    "airflow list_dags\n",
    "\n",
    "# prints the list of tasks the \"tutorial\" dag_id\n",
    "airflow list_tasks tutorial\n",
    "\n",
    "# prints the hierarchy of tasks in the tutorial DAG\n",
    "airflow list_tasks tutorial --tree"
   ]
  },
  {
   "cell_type": "code",
   "execution_count": 48,
   "metadata": {},
   "outputs": [
    {
     "name": "stdout",
     "output_type": "stream",
     "text": [
      "[2018-07-23 18:47:21,610] {__init__.py:45} INFO - Using executor SequentialExecutor\n",
      "[2018-07-23 18:47:21,664] {models.py:189} INFO - Filling up the DagBag from /Users/sgupta/airflow/dags\n"
     ]
    },
    {
     "name": "stderr",
     "output_type": "stream",
     "text": [
      "Traceback (most recent call last):\n",
      "  File \"/usr/local/bin/airflow\", line 27, in <module>\n",
      "    args.func(args)\n",
      "  File \"/usr/local/lib/python2.7/site-packages/airflow/bin/cli.py\", line 528, in test\n",
      "    ti.run(ignore_task_deps=True, ignore_ti_state=True, test_mode=True)\n",
      "  File \"/usr/local/lib/python2.7/site-packages/airflow/utils/db.py\", line 50, in wrapper\n",
      "    result = func(*args, **kwargs)\n",
      "  File \"/usr/local/lib/python2.7/site-packages/airflow/models.py\", line 1577, in run\n",
      "    session=session)\n",
      "  File \"/usr/local/lib/python2.7/site-packages/airflow/utils/db.py\", line 50, in wrapper\n",
      "    result = func(*args, **kwargs)\n",
      "  File \"/usr/local/lib/python2.7/site-packages/airflow/models.py\", line 1338, in _check_and_change_state_before_execution\n",
      "    self.refresh_from_db(session=session, lock_for_update=True)\n",
      "  File \"/usr/local/lib/python2.7/site-packages/airflow/utils/db.py\", line 50, in wrapper\n",
      "    result = func(*args, **kwargs)\n",
      "  File \"/usr/local/lib/python2.7/site-packages/airflow/models.py\", line 1057, in refresh_from_db\n",
      "    ti = qry.with_for_update().first()\n",
      "  File \"/usr/local/lib/python2.7/site-packages/sqlalchemy/orm/query.py\", line 2888, in first\n",
      "    ret = list(self[0:1])\n",
      "  File \"/usr/local/lib/python2.7/site-packages/sqlalchemy/orm/query.py\", line 2680, in __getitem__\n",
      "    return list(res)\n",
      "  File \"/usr/local/lib/python2.7/site-packages/sqlalchemy/orm/query.py\", line 2988, in __iter__\n",
      "    return self._execute_and_instances(context)\n",
      "  File \"/usr/local/lib/python2.7/site-packages/sqlalchemy/orm/query.py\", line 3011, in _execute_and_instances\n",
      "    result = conn.execute(querycontext.statement, self._params)\n",
      "  File \"/usr/local/lib/python2.7/site-packages/sqlalchemy/engine/base.py\", line 948, in execute\n",
      "    return meth(self, multiparams, params)\n",
      "  File \"/usr/local/lib/python2.7/site-packages/sqlalchemy/sql/elements.py\", line 269, in _execute_on_connection\n",
      "    return connection._execute_clauseelement(self, multiparams, params)\n",
      "  File \"/usr/local/lib/python2.7/site-packages/sqlalchemy/engine/base.py\", line 1060, in _execute_clauseelement\n",
      "    compiled_sql, distilled_params\n",
      "  File \"/usr/local/lib/python2.7/site-packages/sqlalchemy/engine/base.py\", line 1200, in _execute_context\n",
      "    context)\n",
      "  File \"/usr/local/lib/python2.7/site-packages/sqlalchemy/engine/base.py\", line 1413, in _handle_dbapi_exception\n",
      "    exc_info\n",
      "  File \"/usr/local/lib/python2.7/site-packages/sqlalchemy/util/compat.py\", line 265, in raise_from_cause\n",
      "    reraise(type(exception), exception, tb=exc_tb, cause=cause)\n",
      "  File \"/usr/local/lib/python2.7/site-packages/sqlalchemy/engine/base.py\", line 1193, in _execute_context\n",
      "    context)\n",
      "  File \"/usr/local/lib/python2.7/site-packages/sqlalchemy/engine/default.py\", line 509, in do_execute\n",
      "    cursor.execute(statement, parameters)\n",
      "sqlalchemy.exc.OperationalError: (sqlite3.OperationalError) no such table: task_instance [SQL: u'SELECT task_instance.try_number AS task_instance_try_number, task_instance.task_id AS task_instance_task_id, task_instance.dag_id AS task_instance_dag_id, task_instance.execution_date AS task_instance_execution_date, task_instance.start_date AS task_instance_start_date, task_instance.end_date AS task_instance_end_date, task_instance.duration AS task_instance_duration, task_instance.state AS task_instance_state, task_instance.max_tries AS task_instance_max_tries, task_instance.hostname AS task_instance_hostname, task_instance.unixname AS task_instance_unixname, task_instance.job_id AS task_instance_job_id, task_instance.pool AS task_instance_pool, task_instance.queue AS task_instance_queue, task_instance.priority_weight AS task_instance_priority_weight, task_instance.operator AS task_instance_operator, task_instance.queued_dttm AS task_instance_queued_dttm, task_instance.pid AS task_instance_pid \\nFROM task_instance \\nWHERE task_instance.dag_id = ? AND task_instance.task_id = ? AND task_instance.execution_date = ?\\n LIMIT ? OFFSET ?'] [parameters: ('tutorial', 'print_date', '2015-06-01 00:00:00.000000', 1, 0)] (Background on this error at: http://sqlalche.me/e/e3q8)\n"
     ]
    }
   ],
   "source": [
    "%%bash\n",
    "airflow test tutorial print_date 2015-06-01\n"
   ]
  },
  {
   "cell_type": "code",
   "execution_count": null,
   "metadata": {},
   "outputs": [],
   "source": []
  },
  {
   "cell_type": "code",
   "execution_count": null,
   "metadata": {},
   "outputs": [],
   "source": []
  }
 ],
 "metadata": {
  "kernelspec": {
   "display_name": "Python 2",
   "language": "python",
   "name": "python2"
  },
  "language_info": {
   "codemirror_mode": {
    "name": "ipython",
    "version": 2
   },
   "file_extension": ".py",
   "mimetype": "text/x-python",
   "name": "python",
   "nbconvert_exporter": "python",
   "pygments_lexer": "ipython2",
   "version": "2.7.13"
  }
 },
 "nbformat": 4,
 "nbformat_minor": 2
}
