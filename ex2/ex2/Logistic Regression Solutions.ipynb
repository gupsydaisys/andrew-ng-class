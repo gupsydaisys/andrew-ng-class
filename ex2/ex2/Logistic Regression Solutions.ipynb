{
 "cells": [
  {
   "cell_type": "markdown",
   "metadata": {},
   "source": [
    "## Logistic Regression\n",
    "\n",
    "\n",
    "In this part of the exercise, you will build a logistic regression model to predict whether a student gets admitted into a university.\n",
    "\n",
    "Suppose that you are the administrator of a university department and you want to determine each applicant’s chance of admission based on their results on two exams. You have historical data from previous applicants that you can use as a training set for logistic regression. For each training example, you have the applicant’s scores on two exams and the admissions decision.\n",
    "\n",
    "Your task is to build a classification model that estimates an applicant’s probability of admission based the scores from those two exams. This outline and the framework code in ex2.m will guide you through the exercise."
   ]
  },
  {
   "cell_type": "markdown",
   "metadata": {},
   "source": [
    "OUTLINE OF WHAT TO DO\n",
    "1. Load Data\n",
    "2. Plot Data\n",
    "3. Compute sigmoid(z)\n",
    "4. Computer cost_function(theta, X, y) => (3a) J(theta), (3b) Derivate of J(theta) w.t.r to each theta_j\n",
    "5. Computer predict(theta, X) => {0, 1}\n",
    "    Predict whether the label is 0 or 1, y = 1 iff sigmoid >= 0.5\n",
    "6.  Compute cost and gradient for logistic regression with regularization TODO FINISH VIDz"
   ]
  },
  {
   "cell_type": "markdown",
   "metadata": {},
   "source": [
    "### 0. IMPORT ALL DA THINGS"
   ]
  },
  {
   "cell_type": "code",
   "execution_count": 2,
   "metadata": {},
   "outputs": [],
   "source": [
    "import numpy as np\n",
    "import pandas as pd\n",
    "import matplotlib.pyplot as plt\n",
    "from mpl_toolkits.mplot3d import axes3d\n",
    "import scipy.optimize as opt\n",
    "from sklearn.linear_model import LogisticRegression"
   ]
  },
  {
   "cell_type": "markdown",
   "metadata": {},
   "source": [
    "### 1. LOAD DATA"
   ]
  },
  {
   "cell_type": "code",
   "execution_count": 3,
   "metadata": {},
   "outputs": [],
   "source": [
    "df = pd.read_csv('ex2data1.txt', header=None, names = [\"Exam A Score\", \"Exam B Score\", \"Admitted\"])"
   ]
  },
  {
   "cell_type": "code",
   "execution_count": 4,
   "metadata": {},
   "outputs": [
    {
     "data": {
      "text/html": [
       "<div>\n",
       "<style scoped>\n",
       "    .dataframe tbody tr th:only-of-type {\n",
       "        vertical-align: middle;\n",
       "    }\n",
       "\n",
       "    .dataframe tbody tr th {\n",
       "        vertical-align: top;\n",
       "    }\n",
       "\n",
       "    .dataframe thead th {\n",
       "        text-align: right;\n",
       "    }\n",
       "</style>\n",
       "<table border=\"1\" class=\"dataframe\">\n",
       "  <thead>\n",
       "    <tr style=\"text-align: right;\">\n",
       "      <th></th>\n",
       "      <th>Exam A Score</th>\n",
       "      <th>Exam B Score</th>\n",
       "      <th>Admitted</th>\n",
       "    </tr>\n",
       "  </thead>\n",
       "  <tbody>\n",
       "    <tr>\n",
       "      <th>36</th>\n",
       "      <td>33.915500</td>\n",
       "      <td>98.869436</td>\n",
       "      <td>0</td>\n",
       "    </tr>\n",
       "    <tr>\n",
       "      <th>56</th>\n",
       "      <td>97.645634</td>\n",
       "      <td>68.861573</td>\n",
       "      <td>1</td>\n",
       "    </tr>\n",
       "    <tr>\n",
       "      <th>55</th>\n",
       "      <td>49.586677</td>\n",
       "      <td>59.808951</td>\n",
       "      <td>0</td>\n",
       "    </tr>\n",
       "    <tr>\n",
       "      <th>29</th>\n",
       "      <td>38.785804</td>\n",
       "      <td>64.995681</td>\n",
       "      <td>0</td>\n",
       "    </tr>\n",
       "    <tr>\n",
       "      <th>89</th>\n",
       "      <td>52.348004</td>\n",
       "      <td>60.769505</td>\n",
       "      <td>0</td>\n",
       "    </tr>\n",
       "    <tr>\n",
       "      <th>78</th>\n",
       "      <td>60.455556</td>\n",
       "      <td>42.508409</td>\n",
       "      <td>0</td>\n",
       "    </tr>\n",
       "    <tr>\n",
       "      <th>82</th>\n",
       "      <td>67.319257</td>\n",
       "      <td>66.589353</td>\n",
       "      <td>1</td>\n",
       "    </tr>\n",
       "    <tr>\n",
       "      <th>21</th>\n",
       "      <td>89.676776</td>\n",
       "      <td>65.799366</td>\n",
       "      <td>1</td>\n",
       "    </tr>\n",
       "    <tr>\n",
       "      <th>80</th>\n",
       "      <td>88.913896</td>\n",
       "      <td>69.803789</td>\n",
       "      <td>1</td>\n",
       "    </tr>\n",
       "    <tr>\n",
       "      <th>23</th>\n",
       "      <td>34.212061</td>\n",
       "      <td>44.209529</td>\n",
       "      <td>0</td>\n",
       "    </tr>\n",
       "  </tbody>\n",
       "</table>\n",
       "</div>"
      ],
      "text/plain": [
       "    Exam A Score  Exam B Score  Admitted\n",
       "36     33.915500     98.869436         0\n",
       "56     97.645634     68.861573         1\n",
       "55     49.586677     59.808951         0\n",
       "29     38.785804     64.995681         0\n",
       "89     52.348004     60.769505         0\n",
       "78     60.455556     42.508409         0\n",
       "82     67.319257     66.589353         1\n",
       "21     89.676776     65.799366         1\n",
       "80     88.913896     69.803789         1\n",
       "23     34.212061     44.209529         0"
      ]
     },
     "execution_count": 4,
     "metadata": {},
     "output_type": "execute_result"
    }
   ],
   "source": [
    "df.sample(10)"
   ]
  },
  {
   "cell_type": "code",
   "execution_count": 5,
   "metadata": {},
   "outputs": [
    {
     "data": {
      "text/html": [
       "<div>\n",
       "<style scoped>\n",
       "    .dataframe tbody tr th:only-of-type {\n",
       "        vertical-align: middle;\n",
       "    }\n",
       "\n",
       "    .dataframe tbody tr th {\n",
       "        vertical-align: top;\n",
       "    }\n",
       "\n",
       "    .dataframe thead th {\n",
       "        text-align: right;\n",
       "    }\n",
       "</style>\n",
       "<table border=\"1\" class=\"dataframe\">\n",
       "  <thead>\n",
       "    <tr style=\"text-align: right;\">\n",
       "      <th></th>\n",
       "      <th>Exam A Score</th>\n",
       "      <th>Exam B Score</th>\n",
       "      <th>Admitted</th>\n",
       "    </tr>\n",
       "  </thead>\n",
       "  <tbody>\n",
       "    <tr>\n",
       "      <th>count</th>\n",
       "      <td>100.000000</td>\n",
       "      <td>100.000000</td>\n",
       "      <td>100.000000</td>\n",
       "    </tr>\n",
       "    <tr>\n",
       "      <th>mean</th>\n",
       "      <td>65.644274</td>\n",
       "      <td>66.221998</td>\n",
       "      <td>0.600000</td>\n",
       "    </tr>\n",
       "    <tr>\n",
       "      <th>std</th>\n",
       "      <td>19.458222</td>\n",
       "      <td>18.582783</td>\n",
       "      <td>0.492366</td>\n",
       "    </tr>\n",
       "    <tr>\n",
       "      <th>min</th>\n",
       "      <td>30.058822</td>\n",
       "      <td>30.603263</td>\n",
       "      <td>0.000000</td>\n",
       "    </tr>\n",
       "    <tr>\n",
       "      <th>25%</th>\n",
       "      <td>50.919511</td>\n",
       "      <td>48.179205</td>\n",
       "      <td>0.000000</td>\n",
       "    </tr>\n",
       "    <tr>\n",
       "      <th>50%</th>\n",
       "      <td>67.032988</td>\n",
       "      <td>67.682381</td>\n",
       "      <td>1.000000</td>\n",
       "    </tr>\n",
       "    <tr>\n",
       "      <th>75%</th>\n",
       "      <td>80.212529</td>\n",
       "      <td>79.360605</td>\n",
       "      <td>1.000000</td>\n",
       "    </tr>\n",
       "    <tr>\n",
       "      <th>max</th>\n",
       "      <td>99.827858</td>\n",
       "      <td>98.869436</td>\n",
       "      <td>1.000000</td>\n",
       "    </tr>\n",
       "  </tbody>\n",
       "</table>\n",
       "</div>"
      ],
      "text/plain": [
       "       Exam A Score  Exam B Score    Admitted\n",
       "count    100.000000    100.000000  100.000000\n",
       "mean      65.644274     66.221998    0.600000\n",
       "std       19.458222     18.582783    0.492366\n",
       "min       30.058822     30.603263    0.000000\n",
       "25%       50.919511     48.179205    0.000000\n",
       "50%       67.032988     67.682381    1.000000\n",
       "75%       80.212529     79.360605    1.000000\n",
       "max       99.827858     98.869436    1.000000"
      ]
     },
     "execution_count": 5,
     "metadata": {},
     "output_type": "execute_result"
    }
   ],
   "source": [
    "df.describe()"
   ]
  },
  {
   "cell_type": "markdown",
   "metadata": {},
   "source": [
    "## Plot Data"
   ]
  },
  {
   "cell_type": "code",
   "execution_count": 6,
   "metadata": {},
   "outputs": [
    {
     "data": {
      "image/png": "[encoded data removed]",
      "text/plain": [
       "<Figure size 432x288 with 1 Axes>"
      ]
     },
     "metadata": {},
     "output_type": "display_data"
    }
   ],
   "source": [
    "x_exam_a = df.values[:, 0]\n",
    "x_exam_b = df.values[:, 1]\n",
    "y = df.values[:, 2]\n",
    "\n",
    "plt.scatter(x_exam_a, y, c='r', label='Exam Score A')\n",
    "plt.scatter(x_exam_b, y, c='b', label='Exam Score B')\n",
    "\n",
    "plt.xlim(-1,101)\n",
    "plt.ylim(-1,1.5)\n",
    "plt.xlabel('Exam Score')\n",
    "plt.ylabel('Admitted');\n",
    "plt.legend(loc=4);"
   ]
  },
  {
   "cell_type": "code",
   "execution_count": 7,
   "metadata": {},
   "outputs": [
    {
     "data": {
      "text/plain": [
       "Text(0,0.5,'Exam Score B')"
      ]
     },
     "execution_count": 7,
     "metadata": {},
     "output_type": "execute_result"
    },
    {
     "data": {
      "image/png": "[encoded data removed]",
      "text/plain": [
       "<Figure size 432x288 with 1 Axes>"
      ]
     },
     "metadata": {},
     "output_type": "display_data"
    }
   ],
   "source": [
    "x_exam_a = df.values[:, 0]\n",
    "x_exam_b = df.values[:, 1]\n",
    "y = df.values[:, 2]\n",
    "\n",
    "cols = ['r' if y[i] == 0 else 'b' for i, e in enumerate(x_exam_a)]\n",
    "plt.scatter(x_exam_a, x_exam_b, c=cols)\n",
    "\n",
    "plt.xlim(28,101)\n",
    "plt.ylim(28,101)\n",
    "plt.xlabel('Exam Score A')\n",
    "plt.ylabel('Exam Score B')"
   ]
  },
  {
   "cell_type": "markdown",
   "metadata": {},
   "source": [
    "## Compute sigmoid(z)"
   ]
  },
  {
   "cell_type": "code",
   "execution_count": 8,
   "metadata": {},
   "outputs": [],
   "source": [
    "def sigmoid(z):\n",
    "    return (1 / (1 + np.exp(-z)))"
   ]
  },
  {
   "cell_type": "code",
   "execution_count": 9,
   "metadata": {},
   "outputs": [],
   "source": [
    "## TEST FUNCTION\n",
    "assert sigmoid(0) == .5"
   ]
  },
  {
   "cell_type": "code",
   "execution_count": 10,
   "metadata": {},
   "outputs": [],
   "source": [
    "assert sigmoid(1) == 0.7310585786300049"
   ]
  },
  {
   "cell_type": "code",
   "execution_count": 11,
   "metadata": {},
   "outputs": [],
   "source": [
    "assert sigmoid(-1) == 0.2689414213699951"
   ]
  },
  {
   "cell_type": "markdown",
   "metadata": {},
   "source": [
    "## Compute cost(theta, X, y)"
   ]
  },
  {
   "cell_type": "code",
   "execution_count": 12,
   "metadata": {},
   "outputs": [],
   "source": [
    "# X is design matrix\n",
    "# Each row is a sample (so n by m) (n = # of features, m = # of samples)\n",
    "# First column is all 1s for theta\n",
    "original_samples = df.values[:, [0, 1]]\n",
    "first_column = np.matrix('1 '*100).T\n",
    "X = np.append(first_column, original_samples, 1)\n",
    "\n",
    "# y is a m dimensional vector\n",
    "# NOTE: You need to use matrix so np correctly shapes data\n",
    "y = np.matrix(df.values[:, 2])\n",
    "\n",
    "# theta is n+1 dimensional (+1 for element at index 0 which has no X)\n",
    "theta = np.matrix('0 '*3)\n",
    "\n",
    "# X.shape, theta.shape, y.shape"
   ]
  },
  {
   "cell_type": "code",
   "execution_count": 13,
   "metadata": {},
   "outputs": [],
   "source": [
    "def cost(theta, X, y):\n",
    "    X_theta = theta*X.T\n",
    "    h = sigmoid(X_theta)\n",
    "    m = y.size\n",
    "    y_is_one = -y*np.log(h.T)\n",
    "    y_is_zero = (y-1)*np.log((1-h).T)\n",
    "    return np.asscalar((y_is_one + y_is_zero) / m)"
   ]
  },
  {
   "cell_type": "code",
   "execution_count": 14,
   "metadata": {},
   "outputs": [
    {
     "data": {
      "text/plain": [
       "0.6931471805599453"
      ]
     },
     "execution_count": 14,
     "metadata": {},
     "output_type": "execute_result"
    }
   ],
   "source": [
    "# Test cost 0.69314718055994529\n",
    "cost(theta, X, y)"
   ]
  },
  {
   "cell_type": "markdown",
   "metadata": {},
   "source": [
    "## Compute gradient"
   ]
  },
  {
   "cell_type": "code",
   "execution_count": 15,
   "metadata": {},
   "outputs": [],
   "source": [
    "def gradient(theta, X, y):\n",
    "    X_theta = theta*X.T\n",
    "    h = sigmoid(X_theta)\n",
    "    diff = h - y\n",
    "    m = y.size\n",
    "    return (diff*X)/m"
   ]
  },
  {
   "cell_type": "code",
   "execution_count": 16,
   "metadata": {},
   "outputs": [
    {
     "data": {
      "text/plain": [
       "matrix([[ -0.1       , -12.00921659, -11.26284221]])"
      ]
     },
     "execution_count": 16,
     "metadata": {},
     "output_type": "execute_result"
    }
   ],
   "source": [
    "# Test gradient array([ -0.1       , -12.00921659, -11.26284221])\n",
    "gradient(theta, X, y)"
   ]
  },
  {
   "cell_type": "markdown",
   "metadata": {},
   "source": [
    "## Get best theta using scipy"
   ]
  },
  {
   "cell_type": "code",
   "execution_count": 17,
   "metadata": {},
   "outputs": [
    {
     "data": {
      "text/plain": [
       "0.20357134412017033"
      ]
     },
     "execution_count": 17,
     "metadata": {},
     "output_type": "execute_result"
    }
   ],
   "source": [
    "# https://docs.scipy.org/doc/scipy-0.14.0/reference/generated/scipy.optimize.fmin_tnc.html\n",
    "# (array([-25.87355624,   0.21193682,   0.20722586]), 51, 1)\n",
    "result = opt.fmin_tnc(func=cost, x0=theta, fprime=gradient, args=(X, y))\n",
    "theta = np.matrix('-25.87355624 0.21193682 0.20722586')\n",
    "cost(theta, X, y)"
   ]
  },
  {
   "cell_type": "markdown",
   "metadata": {},
   "source": [
    "## Compute predict"
   ]
  },
  {
   "cell_type": "code",
   "execution_count": 18,
   "metadata": {},
   "outputs": [
    {
     "data": {
      "text/plain": [
       "matrix([[0, 0, 0, 1, 1, 0, 1, 0, 1, 1, 1, 0, 1, 1, 0, 1, 0, 0, 1, 1, 0,\n",
       "         1, 0, 0, 1, 1, 1, 1, 0, 0, 1, 1, 0, 0, 0, 0, 1, 1, 0, 0, 1, 0,\n",
       "         1, 1, 0, 0, 1, 1, 1, 1, 1, 1, 1, 0, 0, 0, 1, 1, 1, 1, 1, 0, 0,\n",
       "         0, 0, 0, 1, 0, 1, 1, 0, 1, 1, 1, 1, 1, 1, 1, 0, 1, 1, 1, 1, 0,\n",
       "         1, 1, 0, 1, 1, 0, 1, 1, 0, 1, 1, 1, 1, 1, 0, 1]])"
      ]
     },
     "execution_count": 18,
     "metadata": {},
     "output_type": "execute_result"
    }
   ],
   "source": [
    "# Predict whether the label is 0 or 1, y = 1 iff sigmoid >= 0.5\n",
    "def predict(theta, X):\n",
    "    return np.matrix([1 if p >= .5 else 0 for p in sigmoid(X*theta.T)])\n",
    "\n",
    "predict(theta, X)"
   ]
  },
  {
   "cell_type": "markdown",
   "metadata": {},
   "source": [
    "## Compute accuracy"
   ]
  },
  {
   "cell_type": "code",
   "execution_count": 19,
   "metadata": {},
   "outputs": [
    {
     "data": {
      "text/plain": [
       "0.8900000000000006"
      ]
     },
     "execution_count": 19,
     "metadata": {},
     "output_type": "execute_result"
    }
   ],
   "source": [
    "def accuracy(y_prime, y):\n",
    "    y_prime = y_prime.T\n",
    "    y = y.T\n",
    "    return sum([.01 if y_prime[i] == y[i] else 0 for i in range(100)])\n",
    "\n",
    "y_prime = predict(theta, X)\n",
    "accuracy(y_prime, y)"
   ]
  },
  {
   "cell_type": "code",
   "execution_count": 20,
   "metadata": {},
   "outputs": [
    {
     "data": {
      "image/png": "[encoded data removed]",
      "text/plain": [
       "<Figure size 432x288 with 1 Axes>"
      ]
     },
     "metadata": {},
     "output_type": "display_data"
    }
   ],
   "source": [
    "df = pd.read_csv('ex2data1.txt', header=None, names = [\"Exam A Score\", \"Exam B Score\", \"Admitted\"])\n",
    "x_exam_a = df.values[:, 0]\n",
    "x_exam_b = df.values[:, 1]\n",
    "y = df.values[:, 2]\n",
    "\n",
    "cols = []\n",
    "for i, e in enumerate(x_exam_a):\n",
    "    if y_prime.T[i] == y[i]:\n",
    "        if y_prime.T[i] == 0:\n",
    "            cols.append('grey')\n",
    "        else:\n",
    "            cols.append('black')\n",
    "    else:\n",
    "        if y_prime.T[i] == 0:\n",
    "            cols.append('y')\n",
    "        else:\n",
    "            cols.append('g')\n",
    "\n",
    "## PLOT DECISION BOUNDRY\n",
    "xx = np.arange(28,102)\n",
    "theta = [-25.87355624, 0.21193682, 0.20722586]\n",
    "yy = (-theta[0] - xx*theta[1]) / theta[2]\n",
    "plt.plot(xx,yy, label='Decision Boundry (ME)')\n",
    "\n",
    "# Compare with Scikit-learn Logestic regression \n",
    "logistic_regression = LogisticRegression()\n",
    "# X.reshape(-1,1) IS Change [1, 2, 3, 4, 5] ----> [[1], [2], [3], [4]]\n",
    "X = df.values[:, [0, 1]]\n",
    "# clf.coef_, clf.intercept_\n",
    "# 3.89977794 - 0.03844482x1) 0.03101855 = x2\n",
    "clf = logistic_regression.fit(X, y.ravel())\n",
    "yy = (3.89977794 - xx*0.03844482) / 0.03101855\n",
    "plt.plot(xx,yy, label='Decision Boundry (Skit kit learn)')\n",
    "\n",
    "plt.scatter(x_exam_a, x_exam_b, c=cols)\n",
    "plt.xlim(28,101)\n",
    "plt.ylim(28,101)\n",
    "plt.xlabel('Exam Score A')\n",
    "plt.ylabel('Exam Score B')\n",
    "plt.legend(loc=4);\n"
   ]
  },
  {
   "cell_type": "markdown",
   "metadata": {},
   "source": [
    "## With Regularization Params"
   ]
  },
  {
   "cell_type": "markdown",
   "metadata": {},
   "source": [
    "Suppose you are the product manager of the factory and you have the test results for some microchips on two different tests. From these two tests, you would like to determine whether the microchips should be accepted or rejected. To help you make the decision, you have a dataset of test results on past microchips, from which you can build a logistic regression model."
   ]
  },
  {
   "cell_type": "code",
   "execution_count": 21,
   "metadata": {},
   "outputs": [],
   "source": [
    "# Suppose you are the product manager of the factory and you have the test results for some microchips on two different tests. From these two tests, you would like to determine whether the microchips should be accepted or rejected. To help you make the decision, you have a dataset of test results on past microchips, from which you can build a logistic regression model.\n",
    "# load data\n",
    "# def costReg(theta, X, y, learningRate):\n",
    "# def gradientReg(theta, X, y, learningRate):\n",
    "df = pd.read_csv('ex2data2.txt', header=None, names = [\"Test A Score\", \"Test B Score\", \"Accepted\"])"
   ]
  },
  {
   "cell_type": "code",
   "execution_count": 22,
   "metadata": {},
   "outputs": [
    {
     "data": {
      "text/html": [
       "<div>\n",
       "<style scoped>\n",
       "    .dataframe tbody tr th:only-of-type {\n",
       "        vertical-align: middle;\n",
       "    }\n",
       "\n",
       "    .dataframe tbody tr th {\n",
       "        vertical-align: top;\n",
       "    }\n",
       "\n",
       "    .dataframe thead th {\n",
       "        text-align: right;\n",
       "    }\n",
       "</style>\n",
       "<table border=\"1\" class=\"dataframe\">\n",
       "  <thead>\n",
       "    <tr style=\"text-align: right;\">\n",
       "      <th></th>\n",
       "      <th>Test A Score</th>\n",
       "      <th>Test B Score</th>\n",
       "      <th>Accepted</th>\n",
       "    </tr>\n",
       "  </thead>\n",
       "  <tbody>\n",
       "    <tr>\n",
       "      <th>82</th>\n",
       "      <td>-0.40956</td>\n",
       "      <td>-0.411550</td>\n",
       "      <td>0</td>\n",
       "    </tr>\n",
       "    <tr>\n",
       "      <th>42</th>\n",
       "      <td>0.64459</td>\n",
       "      <td>-0.141080</td>\n",
       "      <td>1</td>\n",
       "    </tr>\n",
       "    <tr>\n",
       "      <th>98</th>\n",
       "      <td>0.63882</td>\n",
       "      <td>0.889620</td>\n",
       "      <td>0</td>\n",
       "    </tr>\n",
       "    <tr>\n",
       "      <th>60</th>\n",
       "      <td>0.29896</td>\n",
       "      <td>0.619150</td>\n",
       "      <td>0</td>\n",
       "    </tr>\n",
       "    <tr>\n",
       "      <th>117</th>\n",
       "      <td>0.63265</td>\n",
       "      <td>-0.030612</td>\n",
       "      <td>0</td>\n",
       "    </tr>\n",
       "    <tr>\n",
       "      <th>6</th>\n",
       "      <td>-0.39804</td>\n",
       "      <td>0.034357</td>\n",
       "      <td>1</td>\n",
       "    </tr>\n",
       "    <tr>\n",
       "      <th>55</th>\n",
       "      <td>-0.43836</td>\n",
       "      <td>0.217110</td>\n",
       "      <td>1</td>\n",
       "    </tr>\n",
       "    <tr>\n",
       "      <th>4</th>\n",
       "      <td>-0.51325</td>\n",
       "      <td>0.465640</td>\n",
       "      <td>1</td>\n",
       "    </tr>\n",
       "    <tr>\n",
       "      <th>54</th>\n",
       "      <td>-0.20795</td>\n",
       "      <td>0.173250</td>\n",
       "      <td>1</td>\n",
       "    </tr>\n",
       "    <tr>\n",
       "      <th>103</th>\n",
       "      <td>-0.23675</td>\n",
       "      <td>-0.638160</td>\n",
       "      <td>0</td>\n",
       "    </tr>\n",
       "  </tbody>\n",
       "</table>\n",
       "</div>"
      ],
      "text/plain": [
       "     Test A Score  Test B Score  Accepted\n",
       "82       -0.40956     -0.411550         0\n",
       "42        0.64459     -0.141080         1\n",
       "98        0.63882      0.889620         0\n",
       "60        0.29896      0.619150         0\n",
       "117       0.63265     -0.030612         0\n",
       "6        -0.39804      0.034357         1\n",
       "55       -0.43836      0.217110         1\n",
       "4        -0.51325      0.465640         1\n",
       "54       -0.20795      0.173250         1\n",
       "103      -0.23675     -0.638160         0"
      ]
     },
     "execution_count": 22,
     "metadata": {},
     "output_type": "execute_result"
    }
   ],
   "source": [
    "df.sample(10)"
   ]
  },
  {
   "cell_type": "code",
   "execution_count": 23,
   "metadata": {},
   "outputs": [
    {
     "data": {
      "text/html": [
       "<div>\n",
       "<style scoped>\n",
       "    .dataframe tbody tr th:only-of-type {\n",
       "        vertical-align: middle;\n",
       "    }\n",
       "\n",
       "    .dataframe tbody tr th {\n",
       "        vertical-align: top;\n",
       "    }\n",
       "\n",
       "    .dataframe thead th {\n",
       "        text-align: right;\n",
       "    }\n",
       "</style>\n",
       "<table border=\"1\" class=\"dataframe\">\n",
       "  <thead>\n",
       "    <tr style=\"text-align: right;\">\n",
       "      <th></th>\n",
       "      <th>Test A Score</th>\n",
       "      <th>Test B Score</th>\n",
       "      <th>Accepted</th>\n",
       "    </tr>\n",
       "  </thead>\n",
       "  <tbody>\n",
       "    <tr>\n",
       "      <th>count</th>\n",
       "      <td>118.000000</td>\n",
       "      <td>118.000000</td>\n",
       "      <td>118.000000</td>\n",
       "    </tr>\n",
       "    <tr>\n",
       "      <th>mean</th>\n",
       "      <td>0.054779</td>\n",
       "      <td>0.183102</td>\n",
       "      <td>0.491525</td>\n",
       "    </tr>\n",
       "    <tr>\n",
       "      <th>std</th>\n",
       "      <td>0.496654</td>\n",
       "      <td>0.519743</td>\n",
       "      <td>0.502060</td>\n",
       "    </tr>\n",
       "    <tr>\n",
       "      <th>min</th>\n",
       "      <td>-0.830070</td>\n",
       "      <td>-0.769740</td>\n",
       "      <td>0.000000</td>\n",
       "    </tr>\n",
       "    <tr>\n",
       "      <th>25%</th>\n",
       "      <td>-0.372120</td>\n",
       "      <td>-0.254385</td>\n",
       "      <td>0.000000</td>\n",
       "    </tr>\n",
       "    <tr>\n",
       "      <th>50%</th>\n",
       "      <td>-0.006336</td>\n",
       "      <td>0.213455</td>\n",
       "      <td>0.000000</td>\n",
       "    </tr>\n",
       "    <tr>\n",
       "      <th>75%</th>\n",
       "      <td>0.478970</td>\n",
       "      <td>0.646562</td>\n",
       "      <td>1.000000</td>\n",
       "    </tr>\n",
       "    <tr>\n",
       "      <th>max</th>\n",
       "      <td>1.070900</td>\n",
       "      <td>1.108900</td>\n",
       "      <td>1.000000</td>\n",
       "    </tr>\n",
       "  </tbody>\n",
       "</table>\n",
       "</div>"
      ],
      "text/plain": [
       "       Test A Score  Test B Score    Accepted\n",
       "count    118.000000    118.000000  118.000000\n",
       "mean       0.054779      0.183102    0.491525\n",
       "std        0.496654      0.519743    0.502060\n",
       "min       -0.830070     -0.769740    0.000000\n",
       "25%       -0.372120     -0.254385    0.000000\n",
       "50%       -0.006336      0.213455    0.000000\n",
       "75%        0.478970      0.646562    1.000000\n",
       "max        1.070900      1.108900    1.000000"
      ]
     },
     "execution_count": 23,
     "metadata": {},
     "output_type": "execute_result"
    }
   ],
   "source": [
    "df.describe()"
   ]
  },
  {
   "cell_type": "code",
   "execution_count": 35,
   "metadata": {},
   "outputs": [
    {
     "ename": "ValueError",
     "evalue": "Unknown label type: 'continuous'",
     "output_type": "error",
     "traceback": [
      "\u001b[0;31m---------------------------------------------------------------------------\u001b[0m",
      "\u001b[0;31mValueError\u001b[0m                                Traceback (most recent call last)",
      "\u001b[0;32m<ipython-input-35-2442cdb85a46>\u001b[0m in \u001b[0;36m<module>\u001b[0;34m()\u001b[0m\n\u001b[1;32m     12\u001b[0m \u001b[0mX\u001b[0m \u001b[0;34m=\u001b[0m \u001b[0mdf\u001b[0m\u001b[0;34m.\u001b[0m\u001b[0mvalues\u001b[0m\u001b[0;34m[\u001b[0m\u001b[0;34m:\u001b[0m\u001b[0;34m,\u001b[0m \u001b[0;34m[\u001b[0m\u001b[0;36m0\u001b[0m\u001b[0;34m,\u001b[0m \u001b[0;36m1\u001b[0m\u001b[0;34m]\u001b[0m\u001b[0;34m]\u001b[0m\u001b[0;34m\u001b[0m\u001b[0m\n\u001b[1;32m     13\u001b[0m \u001b[0;31m# 3.89977794 - 0.03844482x1) 0.03101855 = x2\u001b[0m\u001b[0;34m\u001b[0m\u001b[0;34m\u001b[0m\u001b[0m\n\u001b[0;32m---> 14\u001b[0;31m \u001b[0mclf\u001b[0m \u001b[0;34m=\u001b[0m \u001b[0mlogistic_regression\u001b[0m\u001b[0;34m.\u001b[0m\u001b[0mfit\u001b[0m\u001b[0;34m(\u001b[0m\u001b[0mX\u001b[0m\u001b[0;34m,\u001b[0m \u001b[0my\u001b[0m\u001b[0;34m.\u001b[0m\u001b[0mravel\u001b[0m\u001b[0;34m(\u001b[0m\u001b[0;34m)\u001b[0m\u001b[0;34m)\u001b[0m\u001b[0;34m\u001b[0m\u001b[0m\n\u001b[0m\u001b[1;32m     15\u001b[0m \u001b[0mclf\u001b[0m\u001b[0;34m.\u001b[0m\u001b[0mcoef_\u001b[0m\u001b[0;34m,\u001b[0m \u001b[0mclf\u001b[0m\u001b[0;34m.\u001b[0m\u001b[0mintercept_\u001b[0m\u001b[0;34m\u001b[0m\u001b[0m\n\u001b[1;32m     16\u001b[0m \u001b[0myy\u001b[0m \u001b[0;34m=\u001b[0m \u001b[0;34m(\u001b[0m\u001b[0;36m3.89977794\u001b[0m \u001b[0;34m-\u001b[0m \u001b[0mxx\u001b[0m\u001b[0;34m*\u001b[0m\u001b[0;36m0.03844482\u001b[0m\u001b[0;34m)\u001b[0m \u001b[0;34m/\u001b[0m \u001b[0;36m0.03101855\u001b[0m\u001b[0;34m\u001b[0m\u001b[0m\n",
      "\u001b[0;32m/usr/local/lib/python2.7/site-packages/sklearn/linear_model/logistic.pyc\u001b[0m in \u001b[0;36mfit\u001b[0;34m(self, X, y, sample_weight)\u001b[0m\n\u001b[1;32m   1215\u001b[0m         X, y = check_X_y(X, y, accept_sparse='csr', dtype=_dtype,\n\u001b[1;32m   1216\u001b[0m                          order=\"C\")\n\u001b[0;32m-> 1217\u001b[0;31m         \u001b[0mcheck_classification_targets\u001b[0m\u001b[0;34m(\u001b[0m\u001b[0my\u001b[0m\u001b[0;34m)\u001b[0m\u001b[0;34m\u001b[0m\u001b[0m\n\u001b[0m\u001b[1;32m   1218\u001b[0m         \u001b[0mself\u001b[0m\u001b[0;34m.\u001b[0m\u001b[0mclasses_\u001b[0m \u001b[0;34m=\u001b[0m \u001b[0mnp\u001b[0m\u001b[0;34m.\u001b[0m\u001b[0munique\u001b[0m\u001b[0;34m(\u001b[0m\u001b[0my\u001b[0m\u001b[0;34m)\u001b[0m\u001b[0;34m\u001b[0m\u001b[0m\n\u001b[1;32m   1219\u001b[0m         \u001b[0mn_samples\u001b[0m\u001b[0;34m,\u001b[0m \u001b[0mn_features\u001b[0m \u001b[0;34m=\u001b[0m \u001b[0mX\u001b[0m\u001b[0;34m.\u001b[0m\u001b[0mshape\u001b[0m\u001b[0;34m\u001b[0m\u001b[0m\n",
      "\u001b[0;32m/usr/local/lib/python2.7/site-packages/sklearn/utils/multiclass.pyc\u001b[0m in \u001b[0;36mcheck_classification_targets\u001b[0;34m(y)\u001b[0m\n\u001b[1;32m    170\u001b[0m     if y_type not in ['binary', 'multiclass', 'multiclass-multioutput',\n\u001b[1;32m    171\u001b[0m                       'multilabel-indicator', 'multilabel-sequences']:\n\u001b[0;32m--> 172\u001b[0;31m         \u001b[0;32mraise\u001b[0m \u001b[0mValueError\u001b[0m\u001b[0;34m(\u001b[0m\u001b[0;34m\"Unknown label type: %r\"\u001b[0m \u001b[0;34m%\u001b[0m \u001b[0my_type\u001b[0m\u001b[0;34m)\u001b[0m\u001b[0;34m\u001b[0m\u001b[0m\n\u001b[0m\u001b[1;32m    173\u001b[0m \u001b[0;34m\u001b[0m\u001b[0m\n\u001b[1;32m    174\u001b[0m \u001b[0;34m\u001b[0m\u001b[0m\n",
      "\u001b[0;31mValueError\u001b[0m: Unknown label type: 'continuous'"
     ]
    },
    {
     "data": {
      "image/png": "[encoded data removed]",
      "text/plain": [
       "<Figure size 432x288 with 1 Axes>"
      ]
     },
     "metadata": {},
     "output_type": "display_data"
    }
   ],
   "source": [
    "x_test_a = df.values[:, 0]\n",
    "x_test_b = df.values[:, 1]\n",
    "y = df.values[:, 2]\n",
    "\n",
    "cols = ['r' if e == 0 else 'b' for e in y]\n",
    "plt.scatter(x_test_a, x_test_b, c=cols)\n",
    "\n",
    "xx = np.arange(-100, 100)\n",
    "# Compare with Scikit-learn Logestic regression \n",
    "logistic_regression = LogisticRegression()\n",
    "# X.reshape(-1,1) IS Change [1, 2, 3, 4, 5] ----> [[1], [2], [3], [4]]\n",
    "X = df.values[:, [0, 1]]\n",
    "# 3.89977794 - 0.03844482x1) 0.03101855 = x2\n",
    "clf = logistic_regression.fit(X, y.ravel())\n",
    "clf.coef_, clf.intercept_\n",
    "yy = (3.89977794 - xx*0.03844482) / 0.03101855\n",
    "plt.plot(xx,yy, label='Decision Boundry (Skit kit learn)')\n",
    "\n",
    "plt.xlim(-100,100)\n",
    "plt.ylim(-100,100)\n",
    "plt.xlabel('Test Score A')\n",
    "plt.ylabel('Test Score B')\n",
    "\n"
   ]
  },
  {
   "cell_type": "code",
   "execution_count": 36,
   "metadata": {},
   "outputs": [
    {
     "data": {
      "text/plain": [
       "Text(0,0.5,'Test Score B')"
      ]
     },
     "execution_count": 36,
     "metadata": {},
     "output_type": "execute_result"
    },
    {
     "data": {
      "image/png": "[encoded data removed]",
      "text/plain": [
       "<Figure size 432x288 with 1 Axes>"
      ]
     },
     "metadata": {},
     "output_type": "display_data"
    }
   ],
   "source": [
    "x_test_a = df.values[:, 0]\n",
    "x_test_b = df.values[:, 1]\n",
    "y = df.values[:, 2]\n",
    "\n",
    "cols = ['r' if e == 0 else 'b' for e in y]\n",
    "plt.scatter(x_test_a, x_test_b, c=cols)\n",
    "\n",
    "plt.xlim(-1,2)\n",
    "plt.ylim(-1,2)\n",
    "plt.xlabel('Test Score A')\n",
    "plt.ylabel('Test Score B')"
   ]
  },
  {
   "cell_type": "markdown",
   "metadata": {},
   "source": [
    "In particular, you'll notice that there is no linear decision boundary that will perform well on this data. One way to deal with this using a linear technique like logistic regression is to construct features that are derived from polynomials of the original features. Let's start by creating a bunch of polynomial features.\n"
   ]
  },
  {
   "cell_type": "code",
   "execution_count": null,
   "metadata": {},
   "outputs": [],
   "source": []
  },
  {
   "cell_type": "code",
   "execution_count": 26,
   "metadata": {},
   "outputs": [
    {
     "data": {
      "text/html": [
       "<div>\n",
       "<style scoped>\n",
       "    .dataframe tbody tr th:only-of-type {\n",
       "        vertical-align: middle;\n",
       "    }\n",
       "\n",
       "    .dataframe tbody tr th {\n",
       "        vertical-align: top;\n",
       "    }\n",
       "\n",
       "    .dataframe thead th {\n",
       "        text-align: right;\n",
       "    }\n",
       "</style>\n",
       "<table border=\"1\" class=\"dataframe\">\n",
       "  <thead>\n",
       "    <tr style=\"text-align: right;\">\n",
       "      <th></th>\n",
       "      <th>Accepted</th>\n",
       "      <th>One</th>\n",
       "      <th>F01</th>\n",
       "      <th>F02</th>\n",
       "      <th>F03</th>\n",
       "      <th>F04</th>\n",
       "      <th>F10</th>\n",
       "      <th>F11</th>\n",
       "      <th>F12</th>\n",
       "      <th>F13</th>\n",
       "      <th>...</th>\n",
       "      <th>F30</th>\n",
       "      <th>F31</th>\n",
       "      <th>F32</th>\n",
       "      <th>F33</th>\n",
       "      <th>F34</th>\n",
       "      <th>F40</th>\n",
       "      <th>F41</th>\n",
       "      <th>F42</th>\n",
       "      <th>F43</th>\n",
       "      <th>F44</th>\n",
       "    </tr>\n",
       "  </thead>\n",
       "  <tbody>\n",
       "    <tr>\n",
       "      <th>32</th>\n",
       "      <td>1</td>\n",
       "      <td>1</td>\n",
       "      <td>0.64839</td>\n",
       "      <td>0.420410</td>\n",
       "      <td>0.272589</td>\n",
       "      <td>0.176744</td>\n",
       "      <td>-0.17339</td>\n",
       "      <td>-0.112424</td>\n",
       "      <td>-0.072895</td>\n",
       "      <td>-0.047264</td>\n",
       "      <td>...</td>\n",
       "      <td>-0.005213</td>\n",
       "      <td>-0.003380</td>\n",
       "      <td>-0.002192</td>\n",
       "      <td>-0.001421</td>\n",
       "      <td>-0.000921</td>\n",
       "      <td>0.000904</td>\n",
       "      <td>0.000586</td>\n",
       "      <td>0.000380</td>\n",
       "      <td>0.000246</td>\n",
       "      <td>0.000160</td>\n",
       "    </tr>\n",
       "    <tr>\n",
       "      <th>64</th>\n",
       "      <td>0</td>\n",
       "      <td>1</td>\n",
       "      <td>0.50219</td>\n",
       "      <td>0.252195</td>\n",
       "      <td>0.126650</td>\n",
       "      <td>0.063602</td>\n",
       "      <td>0.76555</td>\n",
       "      <td>0.384452</td>\n",
       "      <td>0.193068</td>\n",
       "      <td>0.096957</td>\n",
       "      <td>...</td>\n",
       "      <td>0.448663</td>\n",
       "      <td>0.225314</td>\n",
       "      <td>0.113151</td>\n",
       "      <td>0.056823</td>\n",
       "      <td>0.028536</td>\n",
       "      <td>0.343474</td>\n",
       "      <td>0.172489</td>\n",
       "      <td>0.086622</td>\n",
       "      <td>0.043501</td>\n",
       "      <td>0.021846</td>\n",
       "    </tr>\n",
       "    <tr>\n",
       "      <th>104</th>\n",
       "      <td>0</td>\n",
       "      <td>1</td>\n",
       "      <td>-0.36769</td>\n",
       "      <td>0.135196</td>\n",
       "      <td>-0.049710</td>\n",
       "      <td>0.018278</td>\n",
       "      <td>-0.15035</td>\n",
       "      <td>0.055282</td>\n",
       "      <td>-0.020327</td>\n",
       "      <td>0.007474</td>\n",
       "      <td>...</td>\n",
       "      <td>-0.003399</td>\n",
       "      <td>0.001250</td>\n",
       "      <td>-0.000459</td>\n",
       "      <td>0.000169</td>\n",
       "      <td>-0.000062</td>\n",
       "      <td>0.000511</td>\n",
       "      <td>-0.000188</td>\n",
       "      <td>0.000069</td>\n",
       "      <td>-0.000025</td>\n",
       "      <td>0.000009</td>\n",
       "    </tr>\n",
       "    <tr>\n",
       "      <th>15</th>\n",
       "      <td>1</td>\n",
       "      <td>1</td>\n",
       "      <td>0.58260</td>\n",
       "      <td>0.339423</td>\n",
       "      <td>0.197748</td>\n",
       "      <td>0.115208</td>\n",
       "      <td>0.32200</td>\n",
       "      <td>0.187597</td>\n",
       "      <td>0.109294</td>\n",
       "      <td>0.063675</td>\n",
       "      <td>...</td>\n",
       "      <td>0.033386</td>\n",
       "      <td>0.019451</td>\n",
       "      <td>0.011332</td>\n",
       "      <td>0.006602</td>\n",
       "      <td>0.003846</td>\n",
       "      <td>0.010750</td>\n",
       "      <td>0.006263</td>\n",
       "      <td>0.003649</td>\n",
       "      <td>0.002126</td>\n",
       "      <td>0.001239</td>\n",
       "    </tr>\n",
       "    <tr>\n",
       "      <th>20</th>\n",
       "      <td>1</td>\n",
       "      <td>1</td>\n",
       "      <td>0.59722</td>\n",
       "      <td>0.356672</td>\n",
       "      <td>0.213011</td>\n",
       "      <td>0.127215</td>\n",
       "      <td>-0.60541</td>\n",
       "      <td>-0.361563</td>\n",
       "      <td>-0.215933</td>\n",
       "      <td>-0.128959</td>\n",
       "      <td>...</td>\n",
       "      <td>-0.221896</td>\n",
       "      <td>-0.132521</td>\n",
       "      <td>-0.079144</td>\n",
       "      <td>-0.047266</td>\n",
       "      <td>-0.028228</td>\n",
       "      <td>0.134338</td>\n",
       "      <td>0.080229</td>\n",
       "      <td>0.047915</td>\n",
       "      <td>0.028616</td>\n",
       "      <td>0.017090</td>\n",
       "    </tr>\n",
       "    <tr>\n",
       "      <th>114</th>\n",
       "      <td>0</td>\n",
       "      <td>1</td>\n",
       "      <td>0.49488</td>\n",
       "      <td>0.244906</td>\n",
       "      <td>0.121199</td>\n",
       "      <td>0.059979</td>\n",
       "      <td>-0.59389</td>\n",
       "      <td>-0.293904</td>\n",
       "      <td>-0.145447</td>\n",
       "      <td>-0.071979</td>\n",
       "      <td>...</td>\n",
       "      <td>-0.209468</td>\n",
       "      <td>-0.103662</td>\n",
       "      <td>-0.051300</td>\n",
       "      <td>-0.025387</td>\n",
       "      <td>-0.012564</td>\n",
       "      <td>0.124401</td>\n",
       "      <td>0.061564</td>\n",
       "      <td>0.030467</td>\n",
       "      <td>0.015077</td>\n",
       "      <td>0.007461</td>\n",
       "    </tr>\n",
       "    <tr>\n",
       "      <th>74</th>\n",
       "      <td>0</td>\n",
       "      <td>1</td>\n",
       "      <td>-0.74050</td>\n",
       "      <td>0.548340</td>\n",
       "      <td>-0.406046</td>\n",
       "      <td>0.300677</td>\n",
       "      <td>0.59274</td>\n",
       "      <td>-0.438924</td>\n",
       "      <td>0.325023</td>\n",
       "      <td>-0.240680</td>\n",
       "      <td>...</td>\n",
       "      <td>0.208254</td>\n",
       "      <td>-0.154212</td>\n",
       "      <td>0.114194</td>\n",
       "      <td>-0.084561</td>\n",
       "      <td>0.062617</td>\n",
       "      <td>0.123440</td>\n",
       "      <td>-0.091408</td>\n",
       "      <td>0.067687</td>\n",
       "      <td>-0.050122</td>\n",
       "      <td>0.037116</td>\n",
       "    </tr>\n",
       "    <tr>\n",
       "      <th>7</th>\n",
       "      <td>1</td>\n",
       "      <td>1</td>\n",
       "      <td>-0.19225</td>\n",
       "      <td>0.036960</td>\n",
       "      <td>-0.007106</td>\n",
       "      <td>0.001366</td>\n",
       "      <td>-0.30588</td>\n",
       "      <td>0.058805</td>\n",
       "      <td>-0.011305</td>\n",
       "      <td>0.002173</td>\n",
       "      <td>...</td>\n",
       "      <td>-0.028619</td>\n",
       "      <td>0.005502</td>\n",
       "      <td>-0.001058</td>\n",
       "      <td>0.000203</td>\n",
       "      <td>-0.000039</td>\n",
       "      <td>0.008754</td>\n",
       "      <td>-0.001683</td>\n",
       "      <td>0.000324</td>\n",
       "      <td>-0.000062</td>\n",
       "      <td>0.000012</td>\n",
       "    </tr>\n",
       "    <tr>\n",
       "      <th>58</th>\n",
       "      <td>0</td>\n",
       "      <td>1</td>\n",
       "      <td>0.93348</td>\n",
       "      <td>0.871385</td>\n",
       "      <td>0.813420</td>\n",
       "      <td>0.759312</td>\n",
       "      <td>0.18376</td>\n",
       "      <td>0.171536</td>\n",
       "      <td>0.160126</td>\n",
       "      <td>0.149474</td>\n",
       "      <td>...</td>\n",
       "      <td>0.006205</td>\n",
       "      <td>0.005792</td>\n",
       "      <td>0.005407</td>\n",
       "      <td>0.005047</td>\n",
       "      <td>0.004712</td>\n",
       "      <td>0.001140</td>\n",
       "      <td>0.001064</td>\n",
       "      <td>0.000994</td>\n",
       "      <td>0.000928</td>\n",
       "      <td>0.000866</td>\n",
       "    </tr>\n",
       "    <tr>\n",
       "      <th>61</th>\n",
       "      <td>0</td>\n",
       "      <td>1</td>\n",
       "      <td>0.75804</td>\n",
       "      <td>0.574625</td>\n",
       "      <td>0.435588</td>\n",
       "      <td>0.330193</td>\n",
       "      <td>0.50634</td>\n",
       "      <td>0.383826</td>\n",
       "      <td>0.290955</td>\n",
       "      <td>0.220556</td>\n",
       "      <td>...</td>\n",
       "      <td>0.129816</td>\n",
       "      <td>0.098405</td>\n",
       "      <td>0.074595</td>\n",
       "      <td>0.056546</td>\n",
       "      <td>0.042864</td>\n",
       "      <td>0.065731</td>\n",
       "      <td>0.049827</td>\n",
       "      <td>0.037771</td>\n",
       "      <td>0.028632</td>\n",
       "      <td>0.021704</td>\n",
       "    </tr>\n",
       "  </tbody>\n",
       "</table>\n",
       "<p>10 rows × 26 columns</p>\n",
       "</div>"
      ],
      "text/plain": [
       "     Accepted  One      F01       F02       F03       F04      F10       F11  \\\n",
       "32          1    1  0.64839  0.420410  0.272589  0.176744 -0.17339 -0.112424   \n",
       "64          0    1  0.50219  0.252195  0.126650  0.063602  0.76555  0.384452   \n",
       "104         0    1 -0.36769  0.135196 -0.049710  0.018278 -0.15035  0.055282   \n",
       "15          1    1  0.58260  0.339423  0.197748  0.115208  0.32200  0.187597   \n",
       "20          1    1  0.59722  0.356672  0.213011  0.127215 -0.60541 -0.361563   \n",
       "114         0    1  0.49488  0.244906  0.121199  0.059979 -0.59389 -0.293904   \n",
       "74          0    1 -0.74050  0.548340 -0.406046  0.300677  0.59274 -0.438924   \n",
       "7           1    1 -0.19225  0.036960 -0.007106  0.001366 -0.30588  0.058805   \n",
       "58          0    1  0.93348  0.871385  0.813420  0.759312  0.18376  0.171536   \n",
       "61          0    1  0.75804  0.574625  0.435588  0.330193  0.50634  0.383826   \n",
       "\n",
       "          F12       F13    ...          F30       F31       F32       F33  \\\n",
       "32  -0.072895 -0.047264    ...    -0.005213 -0.003380 -0.002192 -0.001421   \n",
       "64   0.193068  0.096957    ...     0.448663  0.225314  0.113151  0.056823   \n",
       "104 -0.020327  0.007474    ...    -0.003399  0.001250 -0.000459  0.000169   \n",
       "15   0.109294  0.063675    ...     0.033386  0.019451  0.011332  0.006602   \n",
       "20  -0.215933 -0.128959    ...    -0.221896 -0.132521 -0.079144 -0.047266   \n",
       "114 -0.145447 -0.071979    ...    -0.209468 -0.103662 -0.051300 -0.025387   \n",
       "74   0.325023 -0.240680    ...     0.208254 -0.154212  0.114194 -0.084561   \n",
       "7   -0.011305  0.002173    ...    -0.028619  0.005502 -0.001058  0.000203   \n",
       "58   0.160126  0.149474    ...     0.006205  0.005792  0.005407  0.005047   \n",
       "61   0.290955  0.220556    ...     0.129816  0.098405  0.074595  0.056546   \n",
       "\n",
       "          F34       F40       F41       F42       F43       F44  \n",
       "32  -0.000921  0.000904  0.000586  0.000380  0.000246  0.000160  \n",
       "64   0.028536  0.343474  0.172489  0.086622  0.043501  0.021846  \n",
       "104 -0.000062  0.000511 -0.000188  0.000069 -0.000025  0.000009  \n",
       "15   0.003846  0.010750  0.006263  0.003649  0.002126  0.001239  \n",
       "20  -0.028228  0.134338  0.080229  0.047915  0.028616  0.017090  \n",
       "114 -0.012564  0.124401  0.061564  0.030467  0.015077  0.007461  \n",
       "74   0.062617  0.123440 -0.091408  0.067687 -0.050122  0.037116  \n",
       "7   -0.000039  0.008754 -0.001683  0.000324 -0.000062  0.000012  \n",
       "58   0.004712  0.001140  0.001064  0.000994  0.000928  0.000866  \n",
       "61   0.042864  0.065731  0.049827  0.037771  0.028632  0.021704  \n",
       "\n",
       "[10 rows x 26 columns]"
      ]
     },
     "execution_count": 26,
     "metadata": {},
     "output_type": "execute_result"
    }
   ],
   "source": [
    "df = pd.read_csv('ex2data2.txt', header=None, names = [\"Test A Score\", \"Test B Score\", \"Accepted\"])\n",
    "x_test_a = df[\"Test A Score\"]\n",
    "x_test_b = df[\"Test B Score\"]\n",
    "y = df[\"Accepted\"]\n",
    "\n",
    "df.insert(3, 'One', 1)\n",
    "\n",
    "#df;\n",
    "\n",
    "#np.power(x_test_a, 2) * np.power(x_test_a, 1)\n",
    "degree = 5\n",
    "\n",
    "for x1_degree in range(degree):\n",
    "    for x2_degree in range(degree):\n",
    "        if ((x1_degree == 0) and (x2_degree == 0)):\n",
    "            continue\n",
    "        df[\"F\" + str(x1_degree) + str(x2_degree)] = np.power(x_test_a, x1_degree) * np.power(x_test_b, x2_degree)\n",
    "        \n",
    "\n",
    "df.drop('Test A Score', axis=1, inplace=True)\n",
    "df.drop('Test B Score', axis=1, inplace=True)\n",
    "\n",
    "df.sample(10)\n"
   ]
  },
  {
   "cell_type": "code",
   "execution_count": 27,
   "metadata": {},
   "outputs": [
    {
     "data": {
      "text/plain": [
       "((118, 25), (1, 25), (118, 1))"
      ]
     },
     "execution_count": 27,
     "metadata": {},
     "output_type": "execute_result"
    }
   ],
   "source": [
    "# def costReg(theta, X, y, learningRate):\n",
    "# X is design matrix\n",
    "# Each row is a sample (so n by m) (n = # of features, m = # of samples)\n",
    "# First column is all 1s for theta\n",
    "cols = df.shape[1]\n",
    "X = df.iloc[:,1:cols]\n",
    "\n",
    "# y is a m dimensional vector\n",
    "# NOTE: You need to use matrix so np correctly shapes data\n",
    "y = df.iloc[:,0:1]\n",
    "\n",
    "# theta is n+1 dimensional (+1 for element at index 0 which has no X)\n",
    "theta = np.matrix('0 '* (cols -1))\n",
    "\n",
    "learningRate = 1\n",
    "X.shape, theta.shape, y.shape"
   ]
  },
  {
   "cell_type": "code",
   "execution_count": null,
   "metadata": {},
   "outputs": [],
   "source": []
  },
  {
   "cell_type": "code",
   "execution_count": 28,
   "metadata": {},
   "outputs": [],
   "source": [
    "def costReg(theta, X, y, learningRate):\n",
    "    X_theta = theta*X.T\n",
    "    h = sigmoid(X_theta)\n",
    "    m = y.size\n",
    "    y_is_one = -y*np.log(h.T)\n",
    "    first_term = - np.asscalar((y_is_one + y_is_zero) / m)\n",
    "    sum_of_squares_theta = np.sum(np.delete(theta, 0).T*np.delete(theta, 0))\n",
    "    second_term = (learningRate*sum_of_squares_theta)/(2*m)\n",
    "    return first_term + second_term\n",
    "\n",
    "def costReg3(theta, X, y, learningRate):\n",
    "    # Should now be m-dimensional (1, 5000)\n",
    "    theta = np.matrix(theta)\n",
    "    X = np.matrix(X)\n",
    "    y = np.matrix(y)\n",
    "    X_theta = theta*X.T \n",
    "\n",
    "    # Should now be m-dimensional (1, 5000)\n",
    "    h = sigmoid(X_theta) \n",
    "    \n",
    "    # Should be scalar\n",
    "    y_is_one = np.log(h)*(-y)\n",
    "    \n",
    "    # Should be scalar\n",
    "    y_is_zero =np.log(1-h)*(1 - y)\n",
    "    \n",
    "    # Should be scalar\n",
    "    cost = np.asscalar((y_is_one - y_is_zero) / m)\n",
    "    \n",
    "    # Scalar\n",
    "    theta_without_first_term = x = np.delete(theta, 0)\n",
    "    # Scalar\n",
    "    regularization_term = (learningRate * np.sum(np.power(theta_without_first_term, 2)))/(2*m)\n",
    "    \n",
    "    return cost + regularization_term\n",
    "\n",
    "def gradientReg2(theta, X, y, learningRate):\n",
    "    theta = np.matrix(theta)\n",
    "    X = np.matrix(X)\n",
    "    y = np.matrix(y)\n",
    "    \n",
    "    parameters = int(theta.ravel().shape[1])\n",
    "    grad = np.zeros(parameters)\n",
    "    \n",
    "    error = sigmoid(X * theta.T) - y\n",
    "    \n",
    "    for i in range(parameters):\n",
    "        term = np.multiply(error, X[:,i])\n",
    "        \n",
    "        if (i == 0):\n",
    "            grad[i] = np.sum(term) / len(X)\n",
    "        else:\n",
    "            grad[i] = (np.sum(term) / len(X)) + ((learningRate / len(X)) * theta[:,i])\n",
    "    \n",
    "    return grad\n",
    "\n",
    "def gradientReg3(theta, X, y, learningRate):\n",
    "    m, n = X.shape\n",
    "    theta = np.matrix(theta)\n",
    "    X = np.matrix(X)\n",
    "    y = np.matrix(y)    \n",
    "    h = sigmoid(theta*X.T)\n",
    "    diff = h - y.T\n",
    "    first_term = (diff * X) / m\n",
    "    reqularization_term = theta*(learningRate/m)\n",
    "    reqularization_term[0,0] = theta[0, 0]\n",
    "    return reqularization_term + first_term"
   ]
  },
  {
   "cell_type": "code",
   "execution_count": 29,
   "metadata": {},
   "outputs": [
    {
     "ename": "NameError",
     "evalue": "global name 'm' is not defined",
     "output_type": "error",
     "traceback": [
      "\u001b[0;31m---------------------------------------------------------------------------\u001b[0m",
      "\u001b[0;31mNameError\u001b[0m                                 Traceback (most recent call last)",
      "\u001b[0;32m<ipython-input-29-f43b840dc264>\u001b[0m in \u001b[0;36m<module>\u001b[0;34m()\u001b[0m\n\u001b[0;32m----> 1\u001b[0;31m \u001b[0mcostReg3\u001b[0m\u001b[0;34m(\u001b[0m\u001b[0mtheta\u001b[0m\u001b[0;34m,\u001b[0m \u001b[0mX\u001b[0m\u001b[0;34m,\u001b[0m \u001b[0my\u001b[0m\u001b[0;34m,\u001b[0m \u001b[0mlearningRate\u001b[0m\u001b[0;34m)\u001b[0m \u001b[0;31m# 0.6931471805599454\u001b[0m\u001b[0;34m\u001b[0m\u001b[0m\n\u001b[0m\u001b[1;32m      2\u001b[0m     \u001b[0;31m# Should now be m-dimensional (1, 118)\u001b[0m\u001b[0;34m\u001b[0m\u001b[0;34m\u001b[0m\u001b[0m\n\u001b[1;32m      3\u001b[0m \u001b[0;31m#X_theta = np.matrix(theta)*np.matrix(X).T\u001b[0m\u001b[0;34m\u001b[0m\u001b[0;34m\u001b[0m\u001b[0m\n\u001b[1;32m      4\u001b[0m \u001b[0;31m#X_theta.shape\u001b[0m\u001b[0;34m\u001b[0m\u001b[0;34m\u001b[0m\u001b[0m\n\u001b[1;32m      5\u001b[0m     \u001b[0;31m# Should now be m-dimensional (1, 5000)h = sigmoid(X_theta)\u001b[0m\u001b[0;34m\u001b[0m\u001b[0;34m\u001b[0m\u001b[0m\n",
      "\u001b[0;32m<ipython-input-28-ecdcafe2ee65>\u001b[0m in \u001b[0;36mcostReg3\u001b[0;34m(theta, X, y, learningRate)\u001b[0m\n\u001b[1;32m     26\u001b[0m \u001b[0;34m\u001b[0m\u001b[0m\n\u001b[1;32m     27\u001b[0m     \u001b[0;31m# Should be scalar\u001b[0m\u001b[0;34m\u001b[0m\u001b[0;34m\u001b[0m\u001b[0m\n\u001b[0;32m---> 28\u001b[0;31m     \u001b[0mcost\u001b[0m \u001b[0;34m=\u001b[0m \u001b[0mnp\u001b[0m\u001b[0;34m.\u001b[0m\u001b[0masscalar\u001b[0m\u001b[0;34m(\u001b[0m\u001b[0;34m(\u001b[0m\u001b[0my_is_one\u001b[0m \u001b[0;34m-\u001b[0m \u001b[0my_is_zero\u001b[0m\u001b[0;34m)\u001b[0m \u001b[0;34m/\u001b[0m \u001b[0mm\u001b[0m\u001b[0;34m)\u001b[0m\u001b[0;34m\u001b[0m\u001b[0m\n\u001b[0m\u001b[1;32m     29\u001b[0m \u001b[0;34m\u001b[0m\u001b[0m\n\u001b[1;32m     30\u001b[0m     \u001b[0;31m# Scalar\u001b[0m\u001b[0;34m\u001b[0m\u001b[0;34m\u001b[0m\u001b[0m\n",
      "\u001b[0;31mNameError\u001b[0m: global name 'm' is not defined"
     ]
    }
   ],
   "source": [
    "costReg3(theta, X, y, learningRate) # 0.6931471805599454\n",
    "    # Should now be m-dimensional (1, 118)\n",
    "#X_theta = np.matrix(theta)*np.matrix(X).T \n",
    "#X_theta.shape\n",
    "    # Should now be m-dimensional (1, 5000)h = sigmoid(X_theta) \n",
    "    \n",
    "    # Should be scalar\n",
    "    #y_is_one = np.log(h)*(-y)\n",
    "    \n",
    "    # Should be scalar\n",
    "    #y_is_zero =np.log(1-h)*(1 - y)\n",
    "    \n",
    "    # Should be scalar\n",
    "    #cost = np.asscalar((y_is_one - y_is_zero) / m)\n",
    "    \n",
    "    # Scalar\n",
    "    #theta_without_first_term = x = np.delete(theta, 0)\n",
    "    # Scalar\n",
    "    #regularization_term = (learningRate * np.sum(np.power(theta_without_first_term, 2)))/(2*m)\n",
    "    \n",
    "    #return cost + regularization_term"
   ]
  },
  {
   "cell_type": "code",
   "execution_count": 30,
   "metadata": {},
   "outputs": [
    {
     "data": {
      "text/plain": [
       "matrix([[8.47457627e-03, 7.77711864e-05, 3.76648474e-02, 2.34764889e-02,\n",
       "         3.93028171e-02, 1.87880932e-02, 1.15013308e-02, 8.19244468e-03,\n",
       "         3.09593720e-03, 4.47629067e-03, 5.03446395e-02, 7.32393391e-03,\n",
       "         1.28600503e-02, 5.83822078e-03, 7.26504316e-03, 1.83559872e-02,\n",
       "         2.23923907e-03, 3.38643902e-03, 4.08503006e-04, 1.37054473e-03,\n",
       "         3.93486234e-02, 4.32983232e-03, 6.31570797e-03, 2.21859968e-03,\n",
       "         2.73345994e-03]])"
      ]
     },
     "execution_count": 30,
     "metadata": {},
     "output_type": "execute_result"
    }
   ],
   "source": [
    "gradientReg2(theta, X, y, learningRate)\n",
    "# array([8.47457627e-03, 7.77711864e-05, 3.76648474e-02, 2.34764889e-02,\n",
    "#       3.93028171e-02, 1.87880932e-02, 1.15013308e-02, 8.19244468e-03,\n",
    "#       3.09593720e-03, 4.47629067e-03, 5.03446395e-02, 7.32393391e-03,\n",
    "#       1.28600503e-02, 5.83822078e-03, 7.26504316e-03, 1.83559872e-02,\n",
    "#       2.23923907e-03, 3.38643902e-03, 4.08503006e-04, 1.37054473e-03,\n",
    "#       3.93486234e-02, 4.32983232e-03, 6.31570797e-03, 2.21859968e-03,\n",
    "#       2.73345994e-03])\n",
    "\n",
    "gradientReg3(theta, X, y, learningRate)"
   ]
  },
  {
   "cell_type": "code",
   "execution_count": 31,
   "metadata": {},
   "outputs": [
    {
     "ename": "NameError",
     "evalue": "name 'costReg2' is not defined",
     "output_type": "error",
     "traceback": [
      "\u001b[0;31m---------------------------------------------------------------------------\u001b[0m",
      "\u001b[0;31mNameError\u001b[0m                                 Traceback (most recent call last)",
      "\u001b[0;32m<ipython-input-31-cf1862f2d3fb>\u001b[0m in \u001b[0;36m<module>\u001b[0;34m()\u001b[0m\n\u001b[0;32m----> 1\u001b[0;31m \u001b[0mresult2\u001b[0m \u001b[0;34m=\u001b[0m \u001b[0mopt\u001b[0m\u001b[0;34m.\u001b[0m\u001b[0mfmin_tnc\u001b[0m\u001b[0;34m(\u001b[0m\u001b[0mfunc\u001b[0m\u001b[0;34m=\u001b[0m\u001b[0mcostReg2\u001b[0m\u001b[0;34m,\u001b[0m \u001b[0mx0\u001b[0m\u001b[0;34m=\u001b[0m\u001b[0mtheta\u001b[0m\u001b[0;34m,\u001b[0m \u001b[0mfprime\u001b[0m\u001b[0;34m=\u001b[0m\u001b[0mgradientReg2\u001b[0m\u001b[0;34m,\u001b[0m \u001b[0margs\u001b[0m\u001b[0;34m=\u001b[0m\u001b[0;34m(\u001b[0m\u001b[0mX\u001b[0m\u001b[0;34m,\u001b[0m \u001b[0my\u001b[0m\u001b[0;34m,\u001b[0m \u001b[0mlearningRate\u001b[0m\u001b[0;34m)\u001b[0m\u001b[0;34m)\u001b[0m\u001b[0;34m\u001b[0m\u001b[0m\n\u001b[0m\u001b[1;32m      2\u001b[0m \u001b[0mresult2\u001b[0m\u001b[0;34m\u001b[0m\u001b[0m\n",
      "\u001b[0;31mNameError\u001b[0m: name 'costReg2' is not defined"
     ]
    }
   ],
   "source": [
    "result2 = opt.fmin_tnc(func=costReg2, x0=theta, fprime=gradientReg2, args=(X, y, learningRate))\n",
    "result2"
   ]
  },
  {
   "cell_type": "code",
   "execution_count": 32,
   "metadata": {},
   "outputs": [
    {
     "data": {
      "text/plain": [
       "0.8220338983050848"
      ]
     },
     "execution_count": 32,
     "metadata": {},
     "output_type": "execute_result"
    }
   ],
   "source": [
    "from sklearn import linear_model\n",
    "model = linear_model.LogisticRegression(penalty='l2', C=1.0)\n",
    "model.fit(X, y.values.ravel())\n",
    "model.score(X, y)"
   ]
  },
  {
   "cell_type": "code",
   "execution_count": 33,
   "metadata": {},
   "outputs": [],
   "source": [
    "# TODO Plot handwritten vs sklearn vs fmin_tnc"
   ]
  },
  {
   "cell_type": "code",
   "execution_count": null,
   "metadata": {},
   "outputs": [],
   "source": []
  },
  {
   "cell_type": "code",
   "execution_count": null,
   "metadata": {},
   "outputs": [],
   "source": []
  },
  {
   "cell_type": "code",
   "execution_count": null,
   "metadata": {},
   "outputs": [],
   "source": []
  }
 ],
 "metadata": {
  "kernelspec": {
   "display_name": "Python 2",
   "language": "python",
   "name": "python2"
  },
  "language_info": {
   "codemirror_mode": {
    "name": "ipython",
    "version": 2
   },
   "file_extension": ".py",
   "mimetype": "text/x-python",
   "name": "python",
   "nbconvert_exporter": "python",
   "pygments_lexer": "ipython2",
   "version": "2.7.13"
  }
 },
 "nbformat": 4,
 "nbformat_minor": 2
}
