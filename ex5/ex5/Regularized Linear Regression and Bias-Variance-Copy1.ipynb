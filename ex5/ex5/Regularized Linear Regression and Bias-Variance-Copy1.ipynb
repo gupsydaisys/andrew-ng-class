{
 "cells": [
  {
   "cell_type": "markdown",
   "metadata": {},
   "source": [
    "# Regularized Linear Regression and Bias/Variance"
   ]
  },
  {
   "cell_type": "code",
   "execution_count": 240,
   "metadata": {},
   "outputs": [],
   "source": [
    "## Import all the things\n",
    "import numpy as np\n",
    "import pandas as pd\n",
    "import matplotlib.pyplot as plt\n",
    "from mpl_toolkits.mplot3d import axes3d\n",
    "from scipy.io import loadmat\n",
    "import scipy.optimize as opt\n",
    "from scipy.optimize import minimize\n",
    "from sklearn.linear_model import LogisticRegression\n",
    "from sklearn.linear_model import LinearRegression\n",
    "from sklearn.metrics import mean_squared_error, r2_score"
   ]
  },
  {
   "cell_type": "code",
   "execution_count": 241,
   "metadata": {},
   "outputs": [
    {
     "data": {
      "text/plain": [
       "(12, 1)"
      ]
     },
     "execution_count": 241,
     "metadata": {},
     "output_type": "execute_result"
    }
   ],
   "source": [
    "f = loadmat('ex5data1.mat')\n",
    "\n",
    "# Train\n",
    "X = f['X']\n",
    "y = f['y']\n",
    "    \n",
    "# Cross Validation\n",
    "Xval = f['Xval']\n",
    "yval = f['yval']\n",
    "\n",
    "# Test\n",
    "Xtest = f['Xtest']\n",
    "ytest = f['ytest']\n",
    "\n",
    "## Grab m (# number of samples) and n (# of features)\n",
    "m, n = X.shape\n",
    "m, n"
   ]
  },
  {
   "cell_type": "code",
   "execution_count": 242,
   "metadata": {},
   "outputs": [
    {
     "data": {
      "text/plain": [
       "(array([[-15.93675813],\n",
       "        [-29.15297922],\n",
       "        [ 36.18954863],\n",
       "        [ 37.49218733],\n",
       "        [-48.05882945],\n",
       "        [ -8.94145794],\n",
       "        [ 15.30779289],\n",
       "        [-34.70626581],\n",
       "        [  1.38915437],\n",
       "        [-44.38375985],\n",
       "        [  7.01350208],\n",
       "        [ 22.76274892]]), array([[ 2.13431051],\n",
       "        [ 1.17325668],\n",
       "        [34.35910918],\n",
       "        [36.83795516],\n",
       "        [ 2.80896507],\n",
       "        [ 2.12107248],\n",
       "        [14.71026831],\n",
       "        [ 2.61418439],\n",
       "        [ 3.74017167],\n",
       "        [ 3.73169131],\n",
       "        [ 7.62765885],\n",
       "        [22.7524283 ]]))"
      ]
     },
     "execution_count": 242,
     "metadata": {},
     "output_type": "execute_result"
    }
   ],
   "source": [
    "X, y"
   ]
  },
  {
   "cell_type": "code",
   "execution_count": 243,
   "metadata": {},
   "outputs": [
    {
     "data": {
      "image/png": "[encoded data removed]",
      "text/plain": [
       "<Figure size 432x288 with 1 Axes>"
      ]
     },
     "metadata": {},
     "output_type": "display_data"
    }
   ],
   "source": [
    "plt.scatter(X, y, c='r', label='Training Data')\n",
    "plt.scatter(Xval, yval, c='b', label='Cross-Validation Data')\n",
    "plt.scatter(Xtest, ytest, c='g', label='Test Data')\n",
    "\n",
    "plt.xlim(-75,75)\n",
    "plt.ylim(-10,75)\n",
    "plt.xlabel('Change of water level in a reservoir')\n",
    "plt.ylabel('Amount of water flowing out of a dam');\n",
    "\n",
    "plt.legend(loc=4);"
   ]
  },
  {
   "cell_type": "code",
   "execution_count": 244,
   "metadata": {},
   "outputs": [
    {
     "name": "stdout",
     "output_type": "stream",
     "text": [
      "('Coefficients: \\n', array([[0.36777923]]))\n",
      "Mean squared error: 65.01\n",
      "Variance score: 0.68\n"
     ]
    },
    {
     "data": {
      "image/png": "[encoded data removed]",
      "text/plain": [
       "<Figure size 432x288 with 1 Axes>"
      ]
     },
     "metadata": {},
     "output_type": "display_data"
    }
   ],
   "source": [
    "# LINEAR REGRESSION\n",
    "# http://scikit-learn.org/stable/auto_examples/linear_model/plot_ols.html\n",
    "linear_regression = LinearRegression(normalize=True)\n",
    "clf = linear_regression.fit(X, y)\n",
    "ytest_prime = clf.predict(Xtest)\n",
    "\n",
    "# The coefficients\n",
    "print('Coefficients: \\n', clf.coef_)\n",
    "# The mean squared error \n",
    "# sum of squared errors divided by number of samples\n",
    "print(\"Mean squared error: %.2f\"\n",
    "      % mean_squared_error(ytest, ytest_prime))\n",
    "\n",
    "# Explained variance score: 1 is perfect prediction\n",
    "# Proportion of the variance in the dependent variable that is predictable from the independent variable(s)\n",
    "print('Variance score: %.2f' % r2_score(ytest, ytest_prime))\n",
    "\n",
    "# Plot outputs\n",
    "plt.scatter(Xtest, ytest,  color='black')\n",
    "plt.scatter(Xtest, ytest_prime, color='blue', linewidth=3)\n",
    "\n",
    "plt.xticks(())\n",
    "plt.yticks(())\n",
    "\n",
    "plt.show()"
   ]
  },
  {
   "cell_type": "code",
   "execution_count": 245,
   "metadata": {},
   "outputs": [],
   "source": [
    "# LOGISTIC REGRESSION\n",
    "# http://scikit-learn.org/stable/auto_examples/linear_model/plot_ols.html\n",
    "# ONLY FOR CLASSIFICATION BINARY\n",
    "\n",
    "# https://stackoverflow.com/questions/41925157/logisticregression-unknown-label-type-continuous-using-sklearn-in-python\n"
   ]
  },
  {
   "cell_type": "code",
   "execution_count": 246,
   "metadata": {},
   "outputs": [
    {
     "data": {
      "text/plain": [
       "100.0"
      ]
     },
     "execution_count": 246,
     "metadata": {},
     "output_type": "execute_result"
    }
   ],
   "source": [
    "from sklearn.linear_model import RidgeCV\n",
    "reg = RidgeCV(alphas=[0.1, 1.0, 10.0, 100])\n",
    "clf = reg.fit(X, y)\n",
    "clf.alpha_ "
   ]
  },
  {
   "cell_type": "code",
   "execution_count": 247,
   "metadata": {},
   "outputs": [
    {
     "data": {
      "image/png": "[encoded data removed]",
      "text/plain": [
       "<Figure size 432x288 with 1 Axes>"
      ]
     },
     "metadata": {},
     "output_type": "display_data"
    }
   ],
   "source": [
    "# Plot training examples vs error\n",
    "\n",
    "r2_scores = []\n",
    "mean_squared_errors = []\n",
    "mean_squard_errors_train = []\n",
    "for i in range(12):\n",
    "    linear_regression = LinearRegression(normalize=True)\n",
    "    clf = linear_regression.fit(X[0:i+1], y[0:i+1])\n",
    "    ytest_prime = clf.predict(Xtest)\n",
    "    r2_scores.append(r2_score(ytest, ytest_prime))\n",
    "    mean_squared_errors.append(mean_squared_error(ytest, ytest_prime))\n",
    "    yprime = clf.predict(X[0:i+1])\n",
    "    mean_squard_errors_train.append(mean_squared_error(y[0:i+1], yprime[0:i+1]))\n",
    "\n",
    "\n",
    "# Plot outputs\n",
    "plt.plot([i for i in range(12)], mean_squard_errors_train,  color='blue', label='Training Data')\n",
    "plt.plot([i for i in range(12)], mean_squared_errors, color='green', label='Test Data')\n",
    "\n",
    "plt.xticks(())\n",
    "plt.yticks(())\n",
    "\n",
    "plt.xlabel('# of training examples')\n",
    "plt.ylabel('Error');\n",
    "\n",
    "plt.legend(loc=4);\n",
    "plt.show()"
   ]
  },
  {
   "cell_type": "code",
   "execution_count": 269,
   "metadata": {},
   "outputs": [
    {
     "data": {
      "image/png": "[encoded data removed]",
      "text/plain": [
       "<Figure size 432x288 with 1 Axes>"
      ]
     },
     "metadata": {},
     "output_type": "display_data"
    }
   ],
   "source": [
    "# Plot degree of polynomial vs error\n",
    "from sklearn.preprocessing import PolynomialFeatures\n",
    "\n",
    "mean_squared_errors = []\n",
    "mean_squard_errors_train = []\n",
    "for i in range(1, 9):\n",
    "    poly = PolynomialFeatures(degree=i)\n",
    "    Xtransform = poly.fit_transform(X.reshape(-1,1))\n",
    "    Xtesttransform = poly.fit_transform(Xtest.reshape(-1,1))\n",
    "    \n",
    "    linear_regression = LinearRegression(normalize=True)\n",
    "    clf = linear_regression.fit(Xtransform[:][:i], y[0:i])\n",
    "    ytest_prime = clf.predict(Xtesttransform)\n",
    "    mean_squared_errors.append(mean_squared_error(ytest, ytest_prime))\n",
    "    \n",
    "    yprime = clf.predict(Xtransform[:][:i])\n",
    "    mean_squard_errors_train.append(mean_squared_error(y[0:i], yprime[0:i]))\n",
    "    \n",
    "# Plot outputs\n",
    "plt.scatter([i for i in range(1, 9)], mean_squared_errors, color='green', label='Test Data')\n",
    "plt.plot([i for i in range(1, 9)], mean_squard_errors_train,  color='blue', label='Training Data')\n",
    "\n",
    "plt.xlabel('Degree of polynomial')\n",
    "plt.ylabel('Error');\n",
    "\n",
    "plt.legend(loc=10);\n",
    "plt.show()"
   ]
  },
  {
   "cell_type": "code",
   "execution_count": null,
   "metadata": {},
   "outputs": [],
   "source": []
  },
  {
   "cell_type": "code",
   "execution_count": null,
   "metadata": {},
   "outputs": [],
   "source": []
  }
 ],
 "metadata": {
  "kernelspec": {
   "display_name": "Python 2",
   "language": "python",
   "name": "python2"
  },
  "language_info": {
   "codemirror_mode": {
    "name": "ipython",
    "version": 2
   },
   "file_extension": ".py",
   "mimetype": "text/x-python",
   "name": "python",
   "nbconvert_exporter": "python",
   "pygments_lexer": "ipython2",
   "version": "2.7.13"
  }
 },
 "nbformat": 4,
 "nbformat_minor": 2
}
